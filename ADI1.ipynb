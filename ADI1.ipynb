
h=0
m=1
n=1
xa = -1
ya = -1
xb = 1
yb = 1
r = 0
last_U = []
# u_t = del_sq(u_xx)
def a(i,j):
 return -r/2
def b(i,j):
 return 1+r
def c(i,j):
 return -r/2
def d_const_j(i,j):
 i+=1
 j+=1
 return last_U[i][j+1]*r/2 + last_U[i][j]*(1-r) + last_U[i][j-1]*r/2
def d_const_i(i,j):
 i+=1
 j+=1
 return last_U[i+1][j]*r/2 + last_U[i][j]*(1-r) + last_U[i-1][j]*r/2